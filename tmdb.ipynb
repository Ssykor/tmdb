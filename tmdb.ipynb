{
 "cells": [
  {
   "cell_type": "markdown",
   "metadata": {},
   "source": [
    "<HTML>\n",
    "<small>source: <i>towardsdev.com/create-an-etl-pipeline-in-python-with-pandas-in-10-minutes-6be436483ec9</i></small>\n",
    "<h3 style=\"font-size:2em;color:red;\">Create an ETL pipeline in Python with Pandas</h3>\n",
    "</html>"
   ]
  },
  {
   "cell_type": "code",
   "execution_count": 2,
   "metadata": {},
   "outputs": [],
   "source": [
    "import pandas as pd\n",
    "import requests\n",
    "import config"
   ]
  },
  {
   "cell_type": "markdown",
   "metadata": {},
   "source": [
    "### EXTRACT from source (database)"
   ]
  },
  {
   "cell_type": "code",
   "execution_count": 3,
   "metadata": {},
   "outputs": [],
   "source": [
    "response_list = []\n",
    "API_KEY = config.api_key\n",
    "\n",
    "for movie_id in range(553,554):\n",
    "    r = requests.get('https://api.themoviedb.org/3/movie/{}?api_key={}'.format(movie_id, API_KEY))\n",
    "    response_list.append(r.json())\n",
    "\n",
    "df = pd.DataFrame.from_dict(response_list)\n",
    "genres_list = df['genres'].tolist()\n",
    "flat_list = [item for sublist in genres_list for item in sublist]\n",
    "\n",
    "result = []\n",
    "for l in genres_list:\n",
    "    r = []\n",
    "    for d in l:\n",
    "        r.append(d['name'])\n",
    "    result.append(r)\n",
    "df = df.assign(genres_all=result)\n",
    "\n",
    "df_genres = pd.DataFrame.from_records(flat_list).drop_duplicates()"
   ]
  },
  {
   "cell_type": "markdown",
   "metadata": {},
   "source": [
    "### TRANSFORM"
   ]
  },
  {
   "cell_type": "code",
   "execution_count": 5,
   "metadata": {},
   "outputs": [
    {
     "name": "stderr",
     "output_type": "stream",
     "text": [
      "\n",
      "KeyboardInterrupt\n",
      "\n"
     ]
    }
   ],
   "source": [
    "df_columns = ['budget', 'id', 'imdb_id', 'original_title', 'release_date', 'revenue', 'runtime']\n",
    "df_genre_columns = df_genres['name'].to_list()\n",
    "df_columns.extend(df_genre_columns)\n",
    "s = df['genres_all'].explode()\n",
    "df = df.join(pd.crosstab(s.index, s))\n",
    "\n",
    "print(df['release_date'])\n",
    "df['release_date'] = pd.to_datetime(df['release_date'])\n",
    "df['day'] = df['release_date'].dt.day\n",
    "df['month'] = df['release_date'].dt.month\n",
    "df['year'] = df['release_date'].dt.year\n",
    "df['day_of_week'] = df['release_date'].dt.day_name()\n",
    "df_time_columns = ['id', 'release_date', 'day', 'month', 'year', 'day_of_week']"
   ]
  },
  {
   "cell_type": "markdown",
   "metadata": {},
   "source": [
    "### LOAD (up) to database"
   ]
  },
  {
   "cell_type": "code",
   "execution_count": null,
   "metadata": {},
   "outputs": [],
   "source": [
    "df[df_columns].to_csv('tmdb_movies.csv', index=False)\n",
    "df_genres.to_csv('tmdb_genres.csv', index=False)\n",
    "df[df_time_columns].to_csv('tmdb_datetimes.csv', index=False)"
   ]
  }
 ],
 "metadata": {
  "kernelspec": {
   "display_name": "Python 3.10.4 ('testEnv')",
   "language": "python",
   "name": "python3"
  },
  "language_info": {
   "codemirror_mode": {
    "name": "ipython",
    "version": 3
   },
   "file_extension": ".py",
   "mimetype": "text/x-python",
   "name": "python",
   "nbconvert_exporter": "python",
   "pygments_lexer": "ipython3",
   "version": "3.10.4"
  },
  "orig_nbformat": 4,
  "vscode": {
   "interpreter": {
    "hash": "70e7f94dfc94416894c8a7dee04d3e2d43219edff9cd7dfbec0ef82a66a20fcc"
   }
  }
 },
 "nbformat": 4,
 "nbformat_minor": 2
}
